{
 "cells": [
  {
   "cell_type": "code",
   "execution_count": 1,
   "id": "07da8ebb-4285-4937-b544-5bbd9e491af9",
   "metadata": {},
   "outputs": [],
   "source": [
    "%load_ext autoreload\n",
    "%autoreload 2\n",
    "\n",
    "import modeling\n",
    "from modeling.datasets import base\n",
    "from fvcore.common.config import CfgNode\n",
    "import pandas as pd\n",
    "\n",
    "from modeling.datasets.features import *\n",
    "from modeling.datasets.build import FEATURES_REGISTRY, build_dataset\n",
    "from fvcore.common.config import CfgNode\n",
    "from snowflake.connector import connect\n",
    "import os\n",
    "\n",
    "os.environ[\"SNOWFLAKE_DATABASE\"]=\"FISHING\" \n",
    "os.environ[\"SNOWFLAKE_SCHEMA\"]=\"CLASSIFIER_SCHEMA\"\n",
    "os.environ[\"SNOWFLAKE_USER\"]=\"MANUFLORES\"\n",
    "os.environ[\"SNOWFLAKE_PASSWORD\"]=\"pXlmerX5XXXXXX\"\n",
    "os.environ[\"SNOWFLAKE_ACCOUNT\"]=\"SLNYJNF-CV74720\""
   ]
  },
  {
   "cell_type": "code",
   "execution_count": 2,
   "id": "a3d8e5c5-4a9e-4c3e-8f6c-9d6738751fae",
   "metadata": {},
   "outputs": [
    {
     "name": "stdout",
     "output_type": "stream",
     "text": [
      "FISHING\n"
     ]
    }
   ],
   "source": [
    "!echo $SNOWFLAKE_DATABASE"
   ]
  },
  {
   "cell_type": "code",
   "execution_count": 3,
   "id": "8682bdd4-8f10-4421-be74-f6ba0b0fcbcc",
   "metadata": {},
   "outputs": [],
   "source": [
    "cnx = connect(\n",
    "    user      = os.getenv(\"SNOWFLAKE_USER\"),\n",
    "    password  = os.getenv(\"SNOWFLAKE_PASSWORD\"),\n",
    "    account   = os.getenv(\"SNOWFLAKE_ACCOUNT\"),\n",
    "    role      = os.getenv(\"SNOWFLAKE_ROLE\"),\n",
    "    warehouse = os.getenv(\"WAREHOUSE\"),\n",
    "    database  = os.getenv(\"SNOWFLAKE_DATABASE\"),\n",
    "    schema    = os.getenv(\"SNOWFLAKE_SCHEMA\"),\n",
    ")"
   ]
  },
  {
   "cell_type": "code",
   "execution_count": 8,
   "id": "3b251661-c7c4-467a-a048-9e2fee58739e",
   "metadata": {},
   "outputs": [],
   "source": [
    "cfg = {\n",
    "    \"features\":\n",
    "    [\n",
    "        \"H3Blocks\",\n",
    "        \"Speed\", # uses class name in features.py\n",
    "        #\"SpeedT1\"\n",
    "    ], \n",
    "    \"first_table\": \"TRAWLERS_FEAT_ENGH3Blocks\", \n",
    "    \"labels\": \"IS_FISHING\",\n",
    "    \"label_column\": \"LABEL\", # unsure if this will be written to MLFlow... \n",
    "    \"meta_columns\": [],\n",
    "    \"test_data\" : [] \n",
    "}\n",
    "\n",
    "cfg[\"params\"]={} # None # used in table.run_sql(cnx, cfg.params) and sql_join_script(cfg.params.test_buffer)"
   ]
  },
  {
   "cell_type": "code",
   "execution_count": 9,
   "id": "9426a396-221a-4590-b754-b285385c482b",
   "metadata": {},
   "outputs": [],
   "source": [
    "cfg=CfgNode(cfg)"
   ]
  },
  {
   "cell_type": "code",
   "execution_count": 10,
   "id": "4cc5e72a-5e89-4239-85e3-9fd7b8999e8b",
   "metadata": {},
   "outputs": [
    {
     "data": {
      "text/plain": [
       "(CfgNode({'features': ['H3Blocks', 'Speed'], 'first_table': 'H3Blocks', 'labels': 'IS_FISHING', 'label_column': 'LABEL', 'meta_columns': [], 'test_data': [], 'params': CfgNode({})}),\n",
       " <snowflake.connector.connection.SnowflakeConnection at 0x7f8904d941d0>)"
      ]
     },
     "execution_count": 10,
     "metadata": {},
     "output_type": "execute_result"
    }
   ],
   "source": [
    "cfg,cnx"
   ]
  },
  {
   "cell_type": "code",
   "execution_count": 11,
   "id": "e0ccbeec-e59e-4140-8339-83379f3aab38",
   "metadata": {},
   "outputs": [
    {
     "name": "stderr",
     "output_type": "stream",
     "text": [
      "Errored out when executing a Snowflake join and fetch. Query: WITH all_data as (SELECT \n",
      "H3Blocks.idx,\n",
      "H3Blocks.mmsi,\n",
      "H3Blocks.ts_pos_utc,\n",
      "H3Blocks.speed,\n",
      "H3Blocks.course,\n",
      "H3Blocks.latitude,\n",
      "H3Blocks.longitude,\n",
      "H3Blocks.is_fishing,\n",
      "H3Blocks.delta_t_mins,\n",
      "H3Blocks.distance,\n",
      "H3Blocks.speed_t-1,\n",
      "H3Blocks.course_t-1,\n",
      "H3Blocks.speed_t-2,\n",
      "H3Blocks.course_t-2,\n",
      "H3Blocks.speed_t-3,\n",
      "H3Blocks.course_t-3,\n",
      "H3Blocks.speed_t-4,\n",
      "H3Blocks.course_t-4,\n",
      "H3Blocks.speed_t-5,\n",
      "H3Blocks.course_t-5,\n",
      "H3Blocks.speed_t-6,\n",
      "H3Blocks.course_t-6,\n",
      "H3Blocks.speed_t-7,\n",
      "H3Blocks.course_t-7,\n",
      "H3Blocks.speed_t-8,\n",
      "H3Blocks.course_t-8,\n",
      "H3Blocks.speed_t-9,\n",
      "H3Blocks.course_t-9,\n",
      "H3Blocks.speed_t-10,\n",
      "H3Blocks.course_t-10,\n",
      "H3Blocks.speed_t-11,\n",
      "H3Blocks.course_t-11,\n",
      "H3Blocks.speed_t-12,\n",
      "H3Blocks.course_t-12,\n",
      "H3Blocks.speed_t-13,\n",
      "H3Blocks.course_t-13,\n",
      "H3Blocks.speed_t-14,\n",
      "H3Blocks.course_t-14,\n",
      "H3Blocks.speed_t-15,\n",
      "H3Blocks.course_t-15,\n",
      "H3Blocks.speed_t-16,\n",
      "H3Blocks.course_t-16,\n",
      "H3Blocks.speed_t-17,\n",
      "H3Blocks.course_t-17,\n",
      "H3Blocks.speed_t-18,\n",
      "H3Blocks.course_t-18,\n",
      "H3Blocks.speed_t-19,\n",
      "H3Blocks.course_t-19,\n",
      "H3Blocks.speed_t-20,\n",
      "H3Blocks.course_t-20,\n",
      "H3Blocks.speed_diff,\n",
      "H3Blocks.acceleration,\n",
      "H3Blocks.speed_mean,\n",
      "H3Blocks.speed_std,\n",
      "H3Blocks.speed_min,\n",
      "H3Blocks.speed_max,\n",
      "H3Blocks.course_mean,\n",
      "H3Blocks.course_std,\n",
      "H3Blocks.course_min,\n",
      "H3Blocks.course_max,\n",
      "H3Blocks.acceleration_mean,\n",
      "H3Blocks.acceleration_std,\n",
      "H3Blocks.acceleration_min,\n",
      "H3Blocks.acceleration_max,\n",
      "H3Blocks.circular_variance,\n",
      "H3Blocks.speed_cluster,\n",
      "H3Blocks.H3_BLOCKS,\n",
      "Speed.idx,\n",
      "Speed.mmsi,\n",
      "Speed.ts_pos_utc,\n",
      "Speed.speed,\n",
      "Speed.course,\n",
      "Speed.latitude,\n",
      "Speed.longitude,\n",
      "Speed.is_fishing,\n",
      "Speed.delta_t_mins,\n",
      "Speed.distance,\n",
      "Speed.speed_t-1,\n",
      "Speed.course_t-1,\n",
      "Speed.speed_t-2,\n",
      "Speed.course_t-2,\n",
      "Speed.speed_t-3,\n",
      "Speed.course_t-3,\n",
      "Speed.speed_t-4,\n",
      "Speed.course_t-4,\n",
      "Speed.speed_t-5,\n",
      "Speed.course_t-5,\n",
      "Speed.speed_t-6,\n",
      "Speed.course_t-6,\n",
      "Speed.speed_t-7,\n",
      "Speed.course_t-7,\n",
      "Speed.speed_t-8,\n",
      "Speed.course_t-8,\n",
      "Speed.speed_t-9,\n",
      "Speed.course_t-9,\n",
      "Speed.speed_t-10,\n",
      "Speed.course_t-10,\n",
      "Speed.speed_t-11,\n",
      "Speed.course_t-11,\n",
      "Speed.speed_t-12,\n",
      "Speed.course_t-12,\n",
      "Speed.speed_t-13,\n",
      "Speed.course_t-13,\n",
      "Speed.speed_t-14,\n",
      "Speed.course_t-14,\n",
      "Speed.speed_t-15,\n",
      "Speed.course_t-15,\n",
      "Speed.speed_t-16,\n",
      "Speed.course_t-16,\n",
      "Speed.speed_t-17,\n",
      "Speed.course_t-17,\n",
      "Speed.speed_t-18,\n",
      "Speed.course_t-18,\n",
      "Speed.speed_t-19,\n",
      "Speed.course_t-19,\n",
      "Speed.speed_t-20,\n",
      "Speed.course_t-20,\n",
      "Speed.speed_diff,\n",
      "Speed.acceleration,\n",
      "Speed.speed_mean,\n",
      "Speed.speed_std,\n",
      "Speed.speed_min,\n",
      "Speed.speed_max,\n",
      "Speed.course_mean,\n",
      "Speed.course_std,\n",
      "Speed.course_min,\n",
      "Speed.course_max,\n",
      "Speed.acceleration_mean,\n",
      "Speed.acceleration_std,\n",
      "Speed.acceleration_min,\n",
      "Speed.acceleration_max,\n",
      "Speed.circular_variance,\n",
      "Speed.speed_cluster\n",
      "FROM FISHING.CLASSIFIER_SCHEMA.TRAWLERS_FEAT_ENG AS H3Blocks\n",
      "LEFT JOIN FISHING.CLASSIFIER_SCHEMA.TRAWLERS_FEAT_ENG AS Speed\n",
      "ON H3Blocks.H3_BLOCKS = Speed.H3_BLOCKS)\n",
      " SELECT *, 0 as IS_TEST FROM all_data\n",
      "Traceback (most recent call last):\n",
      "  File \"/home/mnu/projects/lumetec/GeoCore/modeling/datasets/build.py\", line 358, in build_dataset\n",
      "    df = cnx.cursor().execute(join_sql).fetch_pandas_all().set_index(index_column)\n",
      "         ^^^^^^^^^^^^^^^^^^^^^^^^^^^^^^\n",
      "  File \"/home/mnu/.cache/pypoetry/virtualenvs/geocore-AM7l7J8s-py3.11/lib/python3.11/site-packages/snowflake/connector/cursor.py\", line 910, in execute\n",
      "    Error.errorhandler_wrapper(self.connection, self, error_class, errvalue)\n",
      "  File \"/home/mnu/.cache/pypoetry/virtualenvs/geocore-AM7l7J8s-py3.11/lib/python3.11/site-packages/snowflake/connector/errors.py\", line 290, in errorhandler_wrapper\n",
      "    handed_over = Error.hand_to_other_handler(\n",
      "                  ^^^^^^^^^^^^^^^^^^^^^^^^^^^^\n",
      "  File \"/home/mnu/.cache/pypoetry/virtualenvs/geocore-AM7l7J8s-py3.11/lib/python3.11/site-packages/snowflake/connector/errors.py\", line 345, in hand_to_other_handler\n",
      "    cursor.errorhandler(connection, cursor, error_class, error_value)\n",
      "  File \"/home/mnu/.cache/pypoetry/virtualenvs/geocore-AM7l7J8s-py3.11/lib/python3.11/site-packages/snowflake/connector/errors.py\", line 221, in default_errorhandler\n",
      "    raise error_class(\n",
      "snowflake.connector.errors.ProgrammingError: 000904 (42000): SQL compilation error: error line 2 at position 0\n",
      "invalid identifier 'H3BLOCKS.IDX'\n"
     ]
    },
    {
     "ename": "ValueError",
     "evalue": "",
     "output_type": "error",
     "traceback": [
      "\u001b[0;31m---------------------------------------------------------------------------\u001b[0m",
      "\u001b[0;31mProgrammingError\u001b[0m                          Traceback (most recent call last)",
      "File \u001b[0;32m~/projects/lumetec/GeoCore/modeling/datasets/build.py:358\u001b[0m, in \u001b[0;36mbuild_dataset\u001b[0;34m(cfg, cnx, unsupervised, experiment_name)\u001b[0m\n\u001b[1;32m    357\u001b[0m \u001b[38;5;28;01mtry\u001b[39;00m:\n\u001b[0;32m--> 358\u001b[0m     df \u001b[38;5;241m=\u001b[39m \u001b[43mcnx\u001b[49m\u001b[38;5;241;43m.\u001b[39;49m\u001b[43mcursor\u001b[49m\u001b[43m(\u001b[49m\u001b[43m)\u001b[49m\u001b[38;5;241;43m.\u001b[39;49m\u001b[43mexecute\u001b[49m\u001b[43m(\u001b[49m\u001b[43mjoin_sql\u001b[49m\u001b[43m)\u001b[49m\u001b[38;5;241m.\u001b[39mfetch_pandas_all()\u001b[38;5;241m.\u001b[39mset_index(index_column)\n\u001b[1;32m    359\u001b[0m \u001b[38;5;28;01mexcept\u001b[39;00m \u001b[38;5;167;01mException\u001b[39;00m:\n",
      "File \u001b[0;32m~/.cache/pypoetry/virtualenvs/geocore-AM7l7J8s-py3.11/lib/python3.11/site-packages/snowflake/connector/cursor.py:910\u001b[0m, in \u001b[0;36mSnowflakeCursor.execute\u001b[0;34m(self, command, params, _bind_stage, timeout, _exec_async, _no_retry, _do_reset, _put_callback, _put_azure_callback, _put_callback_output_stream, _get_callback, _get_azure_callback, _get_callback_output_stream, _show_progress_bar, _statement_params, _is_internal, _describe_only, _no_results, _is_put_get, _raise_put_get_error, _force_put_overwrite, _skip_upload_on_content_match, file_stream, num_statements)\u001b[0m\n\u001b[1;32m    909\u001b[0m     error_class \u001b[38;5;241m=\u001b[39m IntegrityError \u001b[38;5;28;01mif\u001b[39;00m is_integrity_error \u001b[38;5;28;01melse\u001b[39;00m ProgrammingError\n\u001b[0;32m--> 910\u001b[0m     \u001b[43mError\u001b[49m\u001b[38;5;241;43m.\u001b[39;49m\u001b[43merrorhandler_wrapper\u001b[49m\u001b[43m(\u001b[49m\u001b[38;5;28;43mself\u001b[39;49m\u001b[38;5;241;43m.\u001b[39;49m\u001b[43mconnection\u001b[49m\u001b[43m,\u001b[49m\u001b[43m \u001b[49m\u001b[38;5;28;43mself\u001b[39;49m\u001b[43m,\u001b[49m\u001b[43m \u001b[49m\u001b[43merror_class\u001b[49m\u001b[43m,\u001b[49m\u001b[43m \u001b[49m\u001b[43merrvalue\u001b[49m\u001b[43m)\u001b[49m\n\u001b[1;32m    911\u001b[0m \u001b[38;5;28;01mreturn\u001b[39;00m \u001b[38;5;28mself\u001b[39m\n",
      "File \u001b[0;32m~/.cache/pypoetry/virtualenvs/geocore-AM7l7J8s-py3.11/lib/python3.11/site-packages/snowflake/connector/errors.py:290\u001b[0m, in \u001b[0;36mError.errorhandler_wrapper\u001b[0;34m(connection, cursor, error_class, error_value)\u001b[0m\n\u001b[1;32m    274\u001b[0m \u001b[38;5;250m\u001b[39m\u001b[38;5;124;03m\"\"\"Error handler wrapper that calls the errorhandler method.\u001b[39;00m\n\u001b[1;32m    275\u001b[0m \n\u001b[1;32m    276\u001b[0m \u001b[38;5;124;03mArgs:\u001b[39;00m\n\u001b[0;32m   (...)\u001b[0m\n\u001b[1;32m    287\u001b[0m \u001b[38;5;124;03m    exception to the first handler in that order.\u001b[39;00m\n\u001b[1;32m    288\u001b[0m \u001b[38;5;124;03m\"\"\"\u001b[39;00m\n\u001b[0;32m--> 290\u001b[0m handed_over \u001b[38;5;241m=\u001b[39m \u001b[43mError\u001b[49m\u001b[38;5;241;43m.\u001b[39;49m\u001b[43mhand_to_other_handler\u001b[49m\u001b[43m(\u001b[49m\n\u001b[1;32m    291\u001b[0m \u001b[43m    \u001b[49m\u001b[43mconnection\u001b[49m\u001b[43m,\u001b[49m\n\u001b[1;32m    292\u001b[0m \u001b[43m    \u001b[49m\u001b[43mcursor\u001b[49m\u001b[43m,\u001b[49m\n\u001b[1;32m    293\u001b[0m \u001b[43m    \u001b[49m\u001b[43merror_class\u001b[49m\u001b[43m,\u001b[49m\n\u001b[1;32m    294\u001b[0m \u001b[43m    \u001b[49m\u001b[43merror_value\u001b[49m\u001b[43m,\u001b[49m\n\u001b[1;32m    295\u001b[0m \u001b[43m\u001b[49m\u001b[43m)\u001b[49m\n\u001b[1;32m    296\u001b[0m \u001b[38;5;28;01mif\u001b[39;00m \u001b[38;5;129;01mnot\u001b[39;00m handed_over:\n",
      "File \u001b[0;32m~/.cache/pypoetry/virtualenvs/geocore-AM7l7J8s-py3.11/lib/python3.11/site-packages/snowflake/connector/errors.py:345\u001b[0m, in \u001b[0;36mError.hand_to_other_handler\u001b[0;34m(connection, cursor, error_class, error_value)\u001b[0m\n\u001b[1;32m    344\u001b[0m cursor\u001b[38;5;241m.\u001b[39mmessages\u001b[38;5;241m.\u001b[39mappend((error_class, error_value))\n\u001b[0;32m--> 345\u001b[0m \u001b[43mcursor\u001b[49m\u001b[38;5;241;43m.\u001b[39;49m\u001b[43merrorhandler\u001b[49m\u001b[43m(\u001b[49m\u001b[43mconnection\u001b[49m\u001b[43m,\u001b[49m\u001b[43m \u001b[49m\u001b[43mcursor\u001b[49m\u001b[43m,\u001b[49m\u001b[43m \u001b[49m\u001b[43merror_class\u001b[49m\u001b[43m,\u001b[49m\u001b[43m \u001b[49m\u001b[43merror_value\u001b[49m\u001b[43m)\u001b[49m\n\u001b[1;32m    346\u001b[0m \u001b[38;5;28;01mreturn\u001b[39;00m \u001b[38;5;28;01mTrue\u001b[39;00m\n",
      "File \u001b[0;32m~/.cache/pypoetry/virtualenvs/geocore-AM7l7J8s-py3.11/lib/python3.11/site-packages/snowflake/connector/errors.py:221\u001b[0m, in \u001b[0;36mError.default_errorhandler\u001b[0;34m(connection, cursor, error_class, error_value)\u001b[0m\n\u001b[1;32m    220\u001b[0m done_format_msg \u001b[38;5;241m=\u001b[39m error_value\u001b[38;5;241m.\u001b[39mget(\u001b[38;5;124m\"\u001b[39m\u001b[38;5;124mdone_format_msg\u001b[39m\u001b[38;5;124m\"\u001b[39m)\n\u001b[0;32m--> 221\u001b[0m \u001b[38;5;28;01mraise\u001b[39;00m error_class(\n\u001b[1;32m    222\u001b[0m     msg\u001b[38;5;241m=\u001b[39merror_value\u001b[38;5;241m.\u001b[39mget(\u001b[38;5;124m\"\u001b[39m\u001b[38;5;124mmsg\u001b[39m\u001b[38;5;124m\"\u001b[39m),\n\u001b[1;32m    223\u001b[0m     errno\u001b[38;5;241m=\u001b[39m\u001b[38;5;28;01mNone\u001b[39;00m \u001b[38;5;28;01mif\u001b[39;00m errno \u001b[38;5;129;01mis\u001b[39;00m \u001b[38;5;28;01mNone\u001b[39;00m \u001b[38;5;28;01melse\u001b[39;00m \u001b[38;5;28mint\u001b[39m(errno),\n\u001b[1;32m    224\u001b[0m     sqlstate\u001b[38;5;241m=\u001b[39merror_value\u001b[38;5;241m.\u001b[39mget(\u001b[38;5;124m\"\u001b[39m\u001b[38;5;124msqlstate\u001b[39m\u001b[38;5;124m\"\u001b[39m),\n\u001b[1;32m    225\u001b[0m     sfqid\u001b[38;5;241m=\u001b[39merror_value\u001b[38;5;241m.\u001b[39mget(\u001b[38;5;124m\"\u001b[39m\u001b[38;5;124msfqid\u001b[39m\u001b[38;5;124m\"\u001b[39m),\n\u001b[1;32m    226\u001b[0m     query\u001b[38;5;241m=\u001b[39merror_value\u001b[38;5;241m.\u001b[39mget(\u001b[38;5;124m\"\u001b[39m\u001b[38;5;124mquery\u001b[39m\u001b[38;5;124m\"\u001b[39m),\n\u001b[1;32m    227\u001b[0m     done_format_msg\u001b[38;5;241m=\u001b[39m(\n\u001b[1;32m    228\u001b[0m         \u001b[38;5;28;01mNone\u001b[39;00m \u001b[38;5;28;01mif\u001b[39;00m done_format_msg \u001b[38;5;129;01mis\u001b[39;00m \u001b[38;5;28;01mNone\u001b[39;00m \u001b[38;5;28;01melse\u001b[39;00m \u001b[38;5;28mbool\u001b[39m(done_format_msg)\n\u001b[1;32m    229\u001b[0m     ),\n\u001b[1;32m    230\u001b[0m     connection\u001b[38;5;241m=\u001b[39mconnection,\n\u001b[1;32m    231\u001b[0m     cursor\u001b[38;5;241m=\u001b[39mcursor,\n\u001b[1;32m    232\u001b[0m )\n",
      "\u001b[0;31mProgrammingError\u001b[0m: 000904 (42000): SQL compilation error: error line 2 at position 0\ninvalid identifier 'H3BLOCKS.IDX'",
      "\nDuring handling of the above exception, another exception occurred:\n",
      "\u001b[0;31mValueError\u001b[0m                                Traceback (most recent call last)",
      "Cell \u001b[0;32mIn[11], line 1\u001b[0m\n\u001b[0;32m----> 1\u001b[0m X,Y,meta \u001b[38;5;241m=\u001b[39m \u001b[43mbuild_dataset\u001b[49m\u001b[43m(\u001b[49m\n\u001b[1;32m      2\u001b[0m \u001b[43m    \u001b[49m\u001b[43mcfg\u001b[49m\u001b[38;5;241;43m=\u001b[39;49m\u001b[43mcfg\u001b[49m\u001b[43m,\u001b[49m\u001b[43m \u001b[49m\u001b[43mcnx\u001b[49m\u001b[38;5;241;43m=\u001b[39;49m\u001b[43mcnx\u001b[49m\u001b[43m,\u001b[49m\u001b[43m \u001b[49m\u001b[43mexperiment_name\u001b[49m\u001b[38;5;241;43m=\u001b[39;49m\u001b[38;5;124;43m\"\u001b[39;49m\u001b[38;5;124;43mtestttttt\u001b[39;49m\u001b[38;5;124;43m\"\u001b[39;49m\u001b[43m,\u001b[49m\u001b[43m \u001b[49m\u001b[43munsupervised\u001b[49m\u001b[38;5;241;43m=\u001b[39;49m\u001b[38;5;28;43;01mTrue\u001b[39;49;00m\u001b[43m \u001b[49m\n\u001b[1;32m      3\u001b[0m \u001b[43m)\u001b[49m\n",
      "File \u001b[0;32m~/projects/lumetec/GeoCore/modeling/datasets/build.py:361\u001b[0m, in \u001b[0;36mbuild_dataset\u001b[0;34m(cfg, cnx, unsupervised, experiment_name)\u001b[0m\n\u001b[1;32m    359\u001b[0m \u001b[38;5;28;01mexcept\u001b[39;00m \u001b[38;5;167;01mException\u001b[39;00m:\n\u001b[1;32m    360\u001b[0m     logger\u001b[38;5;241m.\u001b[39mexception(\u001b[38;5;124mf\u001b[39m\u001b[38;5;124m\"\u001b[39m\u001b[38;5;124mErrored out when executing a Snowflake join and fetch. Query: \u001b[39m\u001b[38;5;132;01m{\u001b[39;00mjoin_sql\u001b[38;5;132;01m}\u001b[39;00m\u001b[38;5;124m\"\u001b[39m)\n\u001b[0;32m--> 361\u001b[0m     \u001b[38;5;28;01mraise\u001b[39;00m \u001b[38;5;167;01mValueError\u001b[39;00m\n\u001b[1;32m    362\u001b[0m \u001b[38;5;28;01melse\u001b[39;00m:\n\u001b[1;32m    363\u001b[0m     logger\u001b[38;5;241m.\u001b[39mdebug(\u001b[38;5;124m\"\u001b[39m\u001b[38;5;124mComplete Feature Engineering SQL Code:\u001b[39m\u001b[38;5;124m\"\u001b[39m)\n",
      "\u001b[0;31mValueError\u001b[0m: "
     ]
    }
   ],
   "source": [
    "X,Y,meta = build_dataset(\n",
    "    cfg=cfg, cnx=cnx, experiment_name=\"testttttt\", unsupervised=True \n",
    ")"
   ]
  },
  {
   "cell_type": "code",
   "execution_count": 12,
   "id": "a2c49e39-26a7-4b45-bf7a-4f50144e051a",
   "metadata": {},
   "outputs": [],
   "source": [
    "from modeling.datasets import build"
   ]
  },
  {
   "cell_type": "code",
   "execution_count": 16,
   "id": "ec1f3345-f428-4a3b-a32e-8207322547fa",
   "metadata": {},
   "outputs": [],
   "source": [
    "dd=build.feature_props(\n",
    "    feature=FEATURES_REGISTRY.get(\"Speed\")(),cnx=cnx\n",
    ")"
   ]
  },
  {
   "cell_type": "code",
   "execution_count": 17,
   "id": "ef55a7a9-cd90-4ca4-9c98-93a2df66fdb1",
   "metadata": {},
   "outputs": [
    {
     "data": {
      "text/html": [
       "<div>\n",
       "<style scoped>\n",
       "    .dataframe tbody tr th:only-of-type {\n",
       "        vertical-align: middle;\n",
       "    }\n",
       "\n",
       "    .dataframe tbody tr th {\n",
       "        vertical-align: top;\n",
       "    }\n",
       "\n",
       "    .dataframe thead th {\n",
       "        text-align: right;\n",
       "    }\n",
       "</style>\n",
       "<table border=\"1\" class=\"dataframe\">\n",
       "  <thead>\n",
       "    <tr style=\"text-align: right;\">\n",
       "      <th></th>\n",
       "      <th>column</th>\n",
       "      <th>class_name</th>\n",
       "      <th>snowflake_table_name</th>\n",
       "      <th>index_column</th>\n",
       "    </tr>\n",
       "  </thead>\n",
       "  <tbody>\n",
       "    <tr>\n",
       "      <th>0</th>\n",
       "      <td>idx</td>\n",
       "      <td>Speed</td>\n",
       "      <td>FISHING.CLASSIFIER_SCHEMA.TRAWLERS_FEAT_ENG</td>\n",
       "      <td>H3_BLOCKS</td>\n",
       "    </tr>\n",
       "    <tr>\n",
       "      <th>1</th>\n",
       "      <td>mmsi</td>\n",
       "      <td>Speed</td>\n",
       "      <td>FISHING.CLASSIFIER_SCHEMA.TRAWLERS_FEAT_ENG</td>\n",
       "      <td>H3_BLOCKS</td>\n",
       "    </tr>\n",
       "    <tr>\n",
       "      <th>2</th>\n",
       "      <td>ts_pos_utc</td>\n",
       "      <td>Speed</td>\n",
       "      <td>FISHING.CLASSIFIER_SCHEMA.TRAWLERS_FEAT_ENG</td>\n",
       "      <td>H3_BLOCKS</td>\n",
       "    </tr>\n",
       "    <tr>\n",
       "      <th>3</th>\n",
       "      <td>speed</td>\n",
       "      <td>Speed</td>\n",
       "      <td>FISHING.CLASSIFIER_SCHEMA.TRAWLERS_FEAT_ENG</td>\n",
       "      <td>H3_BLOCKS</td>\n",
       "    </tr>\n",
       "    <tr>\n",
       "      <th>4</th>\n",
       "      <td>course</td>\n",
       "      <td>Speed</td>\n",
       "      <td>FISHING.CLASSIFIER_SCHEMA.TRAWLERS_FEAT_ENG</td>\n",
       "      <td>H3_BLOCKS</td>\n",
       "    </tr>\n",
       "    <tr>\n",
       "      <th>...</th>\n",
       "      <td>...</td>\n",
       "      <td>...</td>\n",
       "      <td>...</td>\n",
       "      <td>...</td>\n",
       "    </tr>\n",
       "    <tr>\n",
       "      <th>62</th>\n",
       "      <td>acceleration_min</td>\n",
       "      <td>Speed</td>\n",
       "      <td>FISHING.CLASSIFIER_SCHEMA.TRAWLERS_FEAT_ENG</td>\n",
       "      <td>H3_BLOCKS</td>\n",
       "    </tr>\n",
       "    <tr>\n",
       "      <th>63</th>\n",
       "      <td>acceleration_max</td>\n",
       "      <td>Speed</td>\n",
       "      <td>FISHING.CLASSIFIER_SCHEMA.TRAWLERS_FEAT_ENG</td>\n",
       "      <td>H3_BLOCKS</td>\n",
       "    </tr>\n",
       "    <tr>\n",
       "      <th>64</th>\n",
       "      <td>circular_variance</td>\n",
       "      <td>Speed</td>\n",
       "      <td>FISHING.CLASSIFIER_SCHEMA.TRAWLERS_FEAT_ENG</td>\n",
       "      <td>H3_BLOCKS</td>\n",
       "    </tr>\n",
       "    <tr>\n",
       "      <th>65</th>\n",
       "      <td>speed_cluster</td>\n",
       "      <td>Speed</td>\n",
       "      <td>FISHING.CLASSIFIER_SCHEMA.TRAWLERS_FEAT_ENG</td>\n",
       "      <td>H3_BLOCKS</td>\n",
       "    </tr>\n",
       "    <tr>\n",
       "      <th>66</th>\n",
       "      <td>H3_BLOCKS</td>\n",
       "      <td>Speed</td>\n",
       "      <td>FISHING.CLASSIFIER_SCHEMA.TRAWLERS_FEAT_ENG</td>\n",
       "      <td>H3_BLOCKS</td>\n",
       "    </tr>\n",
       "  </tbody>\n",
       "</table>\n",
       "<p>67 rows × 4 columns</p>\n",
       "</div>"
      ],
      "text/plain": [
       "               column class_name                         snowflake_table_name  \\\n",
       "0                 idx      Speed  FISHING.CLASSIFIER_SCHEMA.TRAWLERS_FEAT_ENG   \n",
       "1                mmsi      Speed  FISHING.CLASSIFIER_SCHEMA.TRAWLERS_FEAT_ENG   \n",
       "2          ts_pos_utc      Speed  FISHING.CLASSIFIER_SCHEMA.TRAWLERS_FEAT_ENG   \n",
       "3               speed      Speed  FISHING.CLASSIFIER_SCHEMA.TRAWLERS_FEAT_ENG   \n",
       "4              course      Speed  FISHING.CLASSIFIER_SCHEMA.TRAWLERS_FEAT_ENG   \n",
       "..                ...        ...                                          ...   \n",
       "62   acceleration_min      Speed  FISHING.CLASSIFIER_SCHEMA.TRAWLERS_FEAT_ENG   \n",
       "63   acceleration_max      Speed  FISHING.CLASSIFIER_SCHEMA.TRAWLERS_FEAT_ENG   \n",
       "64  circular_variance      Speed  FISHING.CLASSIFIER_SCHEMA.TRAWLERS_FEAT_ENG   \n",
       "65      speed_cluster      Speed  FISHING.CLASSIFIER_SCHEMA.TRAWLERS_FEAT_ENG   \n",
       "66          H3_BLOCKS      Speed  FISHING.CLASSIFIER_SCHEMA.TRAWLERS_FEAT_ENG   \n",
       "\n",
       "   index_column  \n",
       "0     H3_BLOCKS  \n",
       "1     H3_BLOCKS  \n",
       "2     H3_BLOCKS  \n",
       "3     H3_BLOCKS  \n",
       "4     H3_BLOCKS  \n",
       "..          ...  \n",
       "62    H3_BLOCKS  \n",
       "63    H3_BLOCKS  \n",
       "64    H3_BLOCKS  \n",
       "65    H3_BLOCKS  \n",
       "66    H3_BLOCKS  \n",
       "\n",
       "[67 rows x 4 columns]"
      ]
     },
     "execution_count": 17,
     "metadata": {},
     "output_type": "execute_result"
    }
   ],
   "source": [
    "dd"
   ]
  },
  {
   "cell_type": "code",
   "execution_count": 18,
   "id": "0ecb83f6-fe89-41d9-93b2-302310928316",
   "metadata": {},
   "outputs": [],
   "source": [
    "feature_instances = [\n",
    "    FEATURES_REGISTRY.get(feature)() for feature in cfg[\"features\"]\n",
    "]"
   ]
  },
  {
   "cell_type": "code",
   "execution_count": 19,
   "id": "8097437c-64ac-4df2-83c1-4842c3f71afd",
   "metadata": {},
   "outputs": [
    {
     "data": {
      "text/plain": [
       "[<modeling.datasets.features.Speed at 0x7f4cc1ee51d0>,\n",
       " <modeling.datasets.features.SpeedT1 at 0x7f4cc1ee69d0>]"
      ]
     },
     "execution_count": 19,
     "metadata": {},
     "output_type": "execute_result"
    }
   ],
   "source": [
    "feature_instances"
   ]
  },
  {
   "cell_type": "code",
   "execution_count": 21,
   "id": "95af97b6-5bc9-429b-948b-02503ea1da40",
   "metadata": {},
   "outputs": [],
   "source": []
  },
  {
   "cell_type": "code",
   "execution_count": 23,
   "id": "0e575384-9de0-437a-8ada-7592b8dd7d1a",
   "metadata": {},
   "outputs": [],
   "source": [
    "df = pd.concat([build.feature_props(f, cnx) for f in feature_instances])"
   ]
  },
  {
   "cell_type": "code",
   "execution_count": 24,
   "id": "13d28ae8-0664-4ab2-8432-ca6aeace099b",
   "metadata": {},
   "outputs": [
    {
     "data": {
      "text/html": [
       "<div>\n",
       "<style scoped>\n",
       "    .dataframe tbody tr th:only-of-type {\n",
       "        vertical-align: middle;\n",
       "    }\n",
       "\n",
       "    .dataframe tbody tr th {\n",
       "        vertical-align: top;\n",
       "    }\n",
       "\n",
       "    .dataframe thead th {\n",
       "        text-align: right;\n",
       "    }\n",
       "</style>\n",
       "<table border=\"1\" class=\"dataframe\">\n",
       "  <thead>\n",
       "    <tr style=\"text-align: right;\">\n",
       "      <th></th>\n",
       "      <th>column</th>\n",
       "      <th>class_name</th>\n",
       "      <th>snowflake_table_name</th>\n",
       "      <th>index_column</th>\n",
       "    </tr>\n",
       "  </thead>\n",
       "  <tbody>\n",
       "    <tr>\n",
       "      <th>0</th>\n",
       "      <td>idx</td>\n",
       "      <td>Speed</td>\n",
       "      <td>FISHING.CLASSIFIER_SCHEMA.TRAWLERS_FEAT_ENG</td>\n",
       "      <td>H3_BLOCKS</td>\n",
       "    </tr>\n",
       "    <tr>\n",
       "      <th>1</th>\n",
       "      <td>mmsi</td>\n",
       "      <td>Speed</td>\n",
       "      <td>FISHING.CLASSIFIER_SCHEMA.TRAWLERS_FEAT_ENG</td>\n",
       "      <td>H3_BLOCKS</td>\n",
       "    </tr>\n",
       "    <tr>\n",
       "      <th>2</th>\n",
       "      <td>ts_pos_utc</td>\n",
       "      <td>Speed</td>\n",
       "      <td>FISHING.CLASSIFIER_SCHEMA.TRAWLERS_FEAT_ENG</td>\n",
       "      <td>H3_BLOCKS</td>\n",
       "    </tr>\n",
       "    <tr>\n",
       "      <th>3</th>\n",
       "      <td>speed</td>\n",
       "      <td>Speed</td>\n",
       "      <td>FISHING.CLASSIFIER_SCHEMA.TRAWLERS_FEAT_ENG</td>\n",
       "      <td>H3_BLOCKS</td>\n",
       "    </tr>\n",
       "    <tr>\n",
       "      <th>4</th>\n",
       "      <td>course</td>\n",
       "      <td>Speed</td>\n",
       "      <td>FISHING.CLASSIFIER_SCHEMA.TRAWLERS_FEAT_ENG</td>\n",
       "      <td>H3_BLOCKS</td>\n",
       "    </tr>\n",
       "    <tr>\n",
       "      <th>...</th>\n",
       "      <td>...</td>\n",
       "      <td>...</td>\n",
       "      <td>...</td>\n",
       "      <td>...</td>\n",
       "    </tr>\n",
       "    <tr>\n",
       "      <th>62</th>\n",
       "      <td>acceleration_min</td>\n",
       "      <td>SpeedT1</td>\n",
       "      <td>FISHING.CLASSIFIER_SCHEMA.TRAWLERS_FEAT_ENG</td>\n",
       "      <td>H3_BLOCKS</td>\n",
       "    </tr>\n",
       "    <tr>\n",
       "      <th>63</th>\n",
       "      <td>acceleration_max</td>\n",
       "      <td>SpeedT1</td>\n",
       "      <td>FISHING.CLASSIFIER_SCHEMA.TRAWLERS_FEAT_ENG</td>\n",
       "      <td>H3_BLOCKS</td>\n",
       "    </tr>\n",
       "    <tr>\n",
       "      <th>64</th>\n",
       "      <td>circular_variance</td>\n",
       "      <td>SpeedT1</td>\n",
       "      <td>FISHING.CLASSIFIER_SCHEMA.TRAWLERS_FEAT_ENG</td>\n",
       "      <td>H3_BLOCKS</td>\n",
       "    </tr>\n",
       "    <tr>\n",
       "      <th>65</th>\n",
       "      <td>speed_cluster</td>\n",
       "      <td>SpeedT1</td>\n",
       "      <td>FISHING.CLASSIFIER_SCHEMA.TRAWLERS_FEAT_ENG</td>\n",
       "      <td>H3_BLOCKS</td>\n",
       "    </tr>\n",
       "    <tr>\n",
       "      <th>66</th>\n",
       "      <td>H3_BLOCKS</td>\n",
       "      <td>SpeedT1</td>\n",
       "      <td>FISHING.CLASSIFIER_SCHEMA.TRAWLERS_FEAT_ENG</td>\n",
       "      <td>H3_BLOCKS</td>\n",
       "    </tr>\n",
       "  </tbody>\n",
       "</table>\n",
       "<p>134 rows × 4 columns</p>\n",
       "</div>"
      ],
      "text/plain": [
       "               column class_name                         snowflake_table_name  \\\n",
       "0                 idx      Speed  FISHING.CLASSIFIER_SCHEMA.TRAWLERS_FEAT_ENG   \n",
       "1                mmsi      Speed  FISHING.CLASSIFIER_SCHEMA.TRAWLERS_FEAT_ENG   \n",
       "2          ts_pos_utc      Speed  FISHING.CLASSIFIER_SCHEMA.TRAWLERS_FEAT_ENG   \n",
       "3               speed      Speed  FISHING.CLASSIFIER_SCHEMA.TRAWLERS_FEAT_ENG   \n",
       "4              course      Speed  FISHING.CLASSIFIER_SCHEMA.TRAWLERS_FEAT_ENG   \n",
       "..                ...        ...                                          ...   \n",
       "62   acceleration_min    SpeedT1  FISHING.CLASSIFIER_SCHEMA.TRAWLERS_FEAT_ENG   \n",
       "63   acceleration_max    SpeedT1  FISHING.CLASSIFIER_SCHEMA.TRAWLERS_FEAT_ENG   \n",
       "64  circular_variance    SpeedT1  FISHING.CLASSIFIER_SCHEMA.TRAWLERS_FEAT_ENG   \n",
       "65      speed_cluster    SpeedT1  FISHING.CLASSIFIER_SCHEMA.TRAWLERS_FEAT_ENG   \n",
       "66          H3_BLOCKS    SpeedT1  FISHING.CLASSIFIER_SCHEMA.TRAWLERS_FEAT_ENG   \n",
       "\n",
       "   index_column  \n",
       "0     H3_BLOCKS  \n",
       "1     H3_BLOCKS  \n",
       "2     H3_BLOCKS  \n",
       "3     H3_BLOCKS  \n",
       "4     H3_BLOCKS  \n",
       "..          ...  \n",
       "62    H3_BLOCKS  \n",
       "63    H3_BLOCKS  \n",
       "64    H3_BLOCKS  \n",
       "65    H3_BLOCKS  \n",
       "66    H3_BLOCKS  \n",
       "\n",
       "[134 rows x 4 columns]"
      ]
     },
     "execution_count": 24,
     "metadata": {},
     "output_type": "execute_result"
    }
   ],
   "source": [
    "df"
   ]
  },
  {
   "cell_type": "code",
   "execution_count": 31,
   "id": "664b5969-eb7b-4155-a107-10e1cc2f49a9",
   "metadata": {},
   "outputs": [],
   "source": [
    "from fvcore.common.registry import Registry\n",
    "TEST_REGISTRY = Registry(\"TEST_REGISTRY\")\n",
    "test_instances = [TEST_REGISTRY.get(data)() for data in cfg[\"test_data\"] if data]"
   ]
  },
  {
   "cell_type": "code",
   "execution_count": 36,
   "id": "e38b7eae-8a94-44f5-971b-5e0b5cfd9449",
   "metadata": {},
   "outputs": [],
   "source": [
    "test_tables = pd.concat([feature_props(f, cnx) for f in test_instances]) if test_instances else None"
   ]
  },
  {
   "cell_type": "code",
   "execution_count": 37,
   "id": "65e10f14-ce51-44e8-836d-26c7199ca5cf",
   "metadata": {},
   "outputs": [
    {
     "data": {
      "text/plain": [
       "([], None)"
      ]
     },
     "execution_count": 37,
     "metadata": {},
     "output_type": "execute_result"
    }
   ],
   "source": [
    "test_instances, test_tables"
   ]
  },
  {
   "cell_type": "code",
   "execution_count": 38,
   "id": "60604a27-b3b6-4075-ba70-dabca785c523",
   "metadata": {},
   "outputs": [
    {
     "data": {
      "text/plain": [
       "[]"
      ]
     },
     "execution_count": 38,
     "metadata": {},
     "output_type": "execute_result"
    }
   ],
   "source": [
    "cfg[\"test_data\"]"
   ]
  },
  {
   "cell_type": "code",
   "execution_count": 41,
   "id": "20b7c628-48ac-4625-a2a4-0341161b021e",
   "metadata": {},
   "outputs": [
    {
     "data": {
      "text/plain": [
       "'Speed'"
      ]
     },
     "execution_count": 41,
     "metadata": {},
     "output_type": "execute_result"
    }
   ],
   "source": [
    "df.class_name.unique()[0]"
   ]
  },
  {
   "cell_type": "code",
   "execution_count": null,
   "id": "2c7c2706-0e60-41ea-a28f-6328c79c05a7",
   "metadata": {},
   "outputs": [],
   "source": []
  },
  {
   "cell_type": "code",
   "execution_count": null,
   "id": "81fbbcf1-db9f-443f-96c8-2508e5026dba",
   "metadata": {},
   "outputs": [],
   "source": []
  },
  {
   "cell_type": "code",
   "execution_count": 22,
   "id": "c0b0517a-d689-41b3-ae18-8551f0034be9",
   "metadata": {},
   "outputs": [
    {
     "data": {
      "text/plain": [
       "modeling.datasets.features.Speed"
      ]
     },
     "execution_count": 22,
     "metadata": {},
     "output_type": "execute_result"
    }
   ],
   "source": [
    "FEATURES_REGISTRY.get(\"Speed\")"
   ]
  },
  {
   "cell_type": "code",
   "execution_count": 4,
   "id": "52106fc0-ae6f-4816-b077-032ccc2b3d26",
   "metadata": {},
   "outputs": [],
   "source": [
    "FEATURES_REGISTRY#.get(\"Speed\")"
   ]
  },
  {
   "cell_type": "code",
   "execution_count": 5,
   "id": "91fa8ba8-cab9-4ebb-843c-003919e3dc04",
   "metadata": {},
   "outputs": [
    {
     "data": {
      "text/plain": [
       "<modeling.datasets.features.Speed at 0x7ff3dadca1d0>"
      ]
     },
     "execution_count": 5,
     "metadata": {},
     "output_type": "execute_result"
    }
   ],
   "source": [
    "s()"
   ]
  },
  {
   "cell_type": "code",
   "execution_count": 6,
   "id": "5e779691-de21-4a80-a174-2bba7d5d908d",
   "metadata": {
    "scrolled": true
   },
   "outputs": [],
   "source": [
    "s().run_sql(cnx=cnx, params={})"
   ]
  },
  {
   "cell_type": "code",
   "execution_count": 7,
   "id": "71fc5eb4-274b-4305-a4a9-71ba8486cb26",
   "metadata": {},
   "outputs": [],
   "source": [
    "cursor = cnx.cursor()"
   ]
  },
  {
   "cell_type": "code",
   "execution_count": 12,
   "id": "899ef3bb-2d6f-4e37-8cf5-24eac4edd0a5",
   "metadata": {},
   "outputs": [],
   "source": [
    "sql_code = \"\"\"\n",
    "SELECT\n",
    "\"H3_BLOCKS\"\n",
    "FROM FISHING.CLASSIFIER_SCHEMA.TRAWLERS_FEAT_ENG\n",
    "LIMIT 5;\n",
    "\"\"\""
   ]
  },
  {
   "cell_type": "code",
   "execution_count": 13,
   "id": "4c79f608-81e1-4036-8339-82cf1b280c3c",
   "metadata": {},
   "outputs": [
    {
     "data": {
      "text/plain": [
       "<snowflake.connector.cursor.SnowflakeCursor at 0x7ff4e06c1d50>"
      ]
     },
     "execution_count": 13,
     "metadata": {},
     "output_type": "execute_result"
    }
   ],
   "source": [
    "cursor.execute(sql_code)"
   ]
  },
  {
   "cell_type": "code",
   "execution_count": 14,
   "id": "9c24ab5d-e317-4adb-b9d5-dbbb2dfe5dea",
   "metadata": {},
   "outputs": [],
   "source": [
    "out = cursor.fetchall()"
   ]
  },
  {
   "cell_type": "code",
   "execution_count": 15,
   "id": "a05a7b3b-e283-4287-8fdd-c3a2ccda9e48",
   "metadata": {},
   "outputs": [
    {
     "data": {
      "text/plain": [
       "[('8f196820aceb6a5',),\n",
       " ('8f196820aceb78a',),\n",
       " ('8f196820aceb682',),\n",
       " ('8f196820aceb690',),\n",
       " ('8f196820accca40',)]"
      ]
     },
     "execution_count": 15,
     "metadata": {},
     "output_type": "execute_result"
    }
   ],
   "source": [
    "out"
   ]
  },
  {
   "cell_type": "code",
   "execution_count": null,
   "id": "e1bf16eb-3c6e-4ed3-a710-4a6a956439fc",
   "metadata": {},
   "outputs": [],
   "source": []
  }
 ],
 "metadata": {
  "kernelspec": {
   "display_name": "Python 3 (ipykernel)",
   "language": "python",
   "name": "python3"
  },
  "language_info": {
   "codemirror_mode": {
    "name": "ipython",
    "version": 3
   },
   "file_extension": ".py",
   "mimetype": "text/x-python",
   "name": "python",
   "nbconvert_exporter": "python",
   "pygments_lexer": "ipython3",
   "version": "3.11.5"
  }
 },
 "nbformat": 4,
 "nbformat_minor": 5
}
